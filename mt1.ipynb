{
 "cells": [
  {
   "cell_type": "code",
   "execution_count": 3,
   "id": "6c2aebdc-0174-4cfe-94c0-e9cb72e3575f",
   "metadata": {},
   "outputs": [],
   "source": [
    "def firstUniqChar(s):\n",
    "    # Step 1: Create a dictionary to store character frequencies\n",
    "    char_counts = {}\n",
    "    \n",
    "    # Step 2: Update frequency counts\n",
    "    for char in s:\n",
    "        char_counts[char] = char_counts.get(char, 0) + 1\n",
    "    \n",
    "    # Step 3: Find the first unique character\n",
    "    for i in range(len(s)):\n",
    "        if char_counts[s[i]] == 1:\n",
    "            return i\n",
    "    \n",
    "    # Step 4: No unique character found\n",
    "    return -1"
   ]
  },
  {
   "cell_type": "code",
   "execution_count": 4,
   "id": "1ec1faa7-520b-4905-b9f4-1711449c19f5",
   "metadata": {},
   "outputs": [
    {
     "name": "stdout",
     "output_type": "stream",
     "text": [
      "0\n",
      "2\n",
      "-1\n"
     ]
    }
   ],
   "source": [
    "string = \"leetcode\"\n",
    "print(firstUniqChar(string))  # Output: 0 (The first unique character is 'l' at index 0)\n",
    "\n",
    "string = \"loveleetcode\"\n",
    "print(firstUniqChar(string))  # Output: 2 (The first unique character is 'v' at index 2)\n",
    "\n",
    "string = \"aabbcc\"\n",
    "print(firstUniqChar(string))  "
   ]
  },
  {
   "cell_type": "code",
   "execution_count": null,
   "id": "d2f8a216-c74d-43f1-b2bd-f4faac614ea6",
   "metadata": {},
   "outputs": [],
   "source": []
  }
 ],
 "metadata": {
  "kernelspec": {
   "display_name": "Python 3 (ipykernel)",
   "language": "python",
   "name": "python3"
  },
  "language_info": {
   "codemirror_mode": {
    "name": "ipython",
    "version": 3
   },
   "file_extension": ".py",
   "mimetype": "text/x-python",
   "name": "python",
   "nbconvert_exporter": "python",
   "pygments_lexer": "ipython3",
   "version": "3.10.6"
  }
 },
 "nbformat": 4,
 "nbformat_minor": 5
}
